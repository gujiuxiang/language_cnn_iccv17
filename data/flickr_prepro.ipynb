{
 "cells": [
  {
   "cell_type": "code",
   "execution_count": 1,
   "metadata": {
    "collapsed": false
   },
   "outputs": [],
   "source": [
    "import json\n",
    "from json import encoder"
   ]
  },
  {
   "cell_type": "code",
   "execution_count": 69,
   "metadata": {
    "collapsed": false
   },
   "outputs": [
    {
     "name": "stdout",
     "output_type": "stream",
     "text": [
      "[u'images', u'dataset']\n",
      "31014\n",
      "{\n",
      "    \"caption\": \"Three men on a large rig.\", \n",
      "    \"id\": \"10002456\", \n",
      "    \"image_id\": \"10002456\"\n",
      "}\n",
      "{\n",
      "    \"caption\": \"A child in a pink dress is climbing up a set of stairs in an entry way.\", \n",
      "    \"id\": \"1000268201\", \n",
      "    \"image_id\": \"1000268201\"\n",
      "}\n"
     ]
    }
   ],
   "source": [
    "flickr30k = json.load(open('caption_datasets/dataset_flickr30k.json', 'r'))\n",
    "print flickr30k.keys()\n",
    "data = {}\n",
    "len_imgs = len(flickr30k[u'images'])\n",
    "print len_imgs\n",
    "data['info'] = '30k'\n",
    "data['type'] ='captions'\n",
    "data['licenses'] = 'ntu' \n",
    "data['images'] =[]\n",
    "data['annotations'] =[]\n",
    "index = 0\n",
    "for i in range(len_imgs):\n",
    "    len_annos = len(flickr30k['images'][i]['sentences'])\n",
    "    for j in xrange(len_annos):\n",
    "        index = index + 1\n",
    "        im_annos = {}\n",
    "        im_annos['caption'] = flickr30k['images'][i]['sentences'][j]['raw']\n",
    "        im_annos['image_id'] = flickr30k['images'][i]['filename'].split('.',1)[0]\n",
    "        im_annos['id'] = flickr30k['images'][i]['filename'].split('.',1)[0]\n",
    "        data['annotations'].append(im_annos)\n",
    "        ims = {}\n",
    "        ims['id'] = flickr30k['images'][i]['filename'].split('.',1)[0]\n",
    "        data['images'].append(ims)\n",
    "print json.dumps(data['annotations'][9], indent=4, sort_keys=True)\n",
    "json.dump(data, open('flickr30k_val.json', 'w'))\n",
    "data = json.load(open('flickr30k_val.json', 'r'))\n",
    "print json.dumps(data['annotations'][10], indent=4, sort_keys=True)"
   ]
  },
  {
   "cell_type": "code",
   "execution_count": 73,
   "metadata": {
    "collapsed": false
   },
   "outputs": [
    {
     "name": "stdout",
     "output_type": "stream",
     "text": [
      "[u'images', u'dataset']\n",
      "8000\n",
      "{\n",
      "    \"caption\": \"The little boy is playing with a croquet hammer and ball beside the car .\", \n",
      "    \"id\": \"2903617548_d3e38d7f88\", \n",
      "    \"image_id\": \"2903617548_d3e38d7f88\"\n",
      "}\n",
      "{\n",
      "    \"caption\": \"A brown dog in the snow has something hot pink in its mouth .\", \n",
      "    \"id\": \"3338291921_fe7ae0c8f8\", \n",
      "    \"image_id\": \"3338291921_fe7ae0c8f8\"\n",
      "}\n"
     ]
    }
   ],
   "source": [
    "flickr8k = json.load(open('caption_datasets/dataset_flickr8k.json', 'r'))\n",
    "print flickr8k.keys()\n",
    "data = {}\n",
    "len_imgs = len(flickr8k[u'images'])\n",
    "print len_imgs\n",
    "data['info'] = '8k'\n",
    "data['type'] ='captions'\n",
    "data['licenses'] = 'ntu' \n",
    "data['images'] =[]\n",
    "data['annotations'] =[]\n",
    "index = 0\n",
    "for i in range(len_imgs):\n",
    "    len_annos = len(flickr8k['images'][i]['sentences'])\n",
    "    for j in xrange(len_annos):\n",
    "        index = index + 1\n",
    "        im_annos = {}\n",
    "        im_annos['caption'] = flickr8k['images'][i]['sentences'][j]['raw']\n",
    "        im_annos['image_id'] = flickr8k['images'][i]['filename'].split('.',1)[0]\n",
    "        im_annos['id'] = flickr8k['images'][i]['filename'].split('.',1)[0]\n",
    "        data['annotations'].append(im_annos)\n",
    "        ims = {}\n",
    "        ims['id'] = flickr8k['images'][i]['filename'].split('.',1)[0]\n",
    "        data['images'].append(ims)\n",
    "print json.dumps(data['annotations'][9], indent=4, sort_keys=True)\n",
    "json.dump(data, open('flickr8k_val.json', 'w'))\n",
    "data = json.load(open('flickr8k_val.json', 'r'))\n",
    "print json.dumps(data['annotations'][10], indent=4, sort_keys=True)"
   ]
  },
  {
   "cell_type": "code",
   "execution_count": 5,
   "metadata": {
    "collapsed": false
   },
   "outputs": [
    {
     "name": "stdout",
     "output_type": "stream",
     "text": [
      "[u'images', u'dataset']\n",
      "31014\n",
      "{\n",
      "    \"captions\": [\n",
      "        \"Five ballet dancers caught mid jump in a dancing studio with sunlight coming through a window.\", \n",
      "        \"Ballet dancers in a studio practice jumping with wonderful form.\", \n",
      "        \"Five girls are leaping simultaneously in a dance practice room.\", \n",
      "        \"Five girls dancing and bending feet in ballet class.\", \n",
      "        \"A ballet class of five girls jumping in sequence.\"\n",
      "    ], \n",
      "    \"file_path\": \"flickr30k/flickr30k-images/1001573224.jpg\", \n",
      "    \"id\": \"1001573224\", \n",
      "    \"split\": \"train\"\n",
      "}\n",
      "31014\n",
      "{\n",
      "    \"captions\": [\n",
      "        \"Five ballet dancers caught mid jump in a dancing studio with sunlight coming through a window.\", \n",
      "        \"Ballet dancers in a studio practice jumping with wonderful form.\", \n",
      "        \"Five girls are leaping simultaneously in a dance practice room.\", \n",
      "        \"Five girls dancing and bending feet in ballet class.\", \n",
      "        \"A ballet class of five girls jumping in sequence.\"\n",
      "    ], \n",
      "    \"file_path\": \"flickr30k/flickr30k-images/1001573224.jpg\", \n",
      "    \"id\": \"1001573224\", \n",
      "    \"split\": \"train\"\n",
      "}\n"
     ]
    }
   ],
   "source": [
    "flickr30k = json.load(open('caption_datasets/dataset_flickr30k.json', 'r'))\n",
    "print flickr30k.keys()\n",
    "data = {}\n",
    "len_imgs = len(flickr30k[u'images'])\n",
    "print len_imgs\n",
    "data =[]\n",
    "index = 0\n",
    "for i in range(len_imgs):\n",
    "    im_annos = {}\n",
    "    im_annos['captions'] = []\n",
    "    len_annos = len(flickr30k['images'][i]['sentences'])\n",
    "    for j in xrange(len_annos):\n",
    "        im_annos[u'captions'].append(flickr30k['images'][i]['sentences'][j]['raw'])\n",
    "        index = index + 1\n",
    "    im_annos['file_path'] = 'flickr30k/flickr30k-images/'+flickr30k['images'][i]['filename']\n",
    "    im_annos['split'] = flickr30k['images'][i]['split']\n",
    "    im_annos['id'] = flickr30k['images'][i]['filename'].split('.',1)[0]\n",
    "    data.append(im_annos)\n",
    "print json.dumps(data[10], indent=4, sort_keys=True)\n",
    "json.dump(data, open('flickr30k_raw.json', 'w'))\n",
    "from random import shuffle, seed\n",
    "imgs = json.load(open('flickr30k_raw.json', 'r'))\n",
    "print len(imgs)\n",
    "print json.dumps(imgs[10], indent=4, sort_keys=True)"
   ]
  },
  {
   "cell_type": "code",
   "execution_count": 72,
   "metadata": {
    "collapsed": false
   },
   "outputs": [
    {
     "name": "stdout",
     "output_type": "stream",
     "text": [
      "[u'images', u'dataset']\n",
      "8000\n",
      "{\n",
      "    \"captions\": [\n",
      "        \"A photographer looks over the hills .\", \n",
      "        \"A woman in a red jacket is videotaping a natural landscape .\", \n",
      "        \"A woman with a camera looks out over rolling hills .\", \n",
      "        \"A woman with a camera on a tripod is looking at the view .\", \n",
      "        \"Lady in red shirt has her camera set up in the field to record something .\"\n",
      "    ], \n",
      "    \"file_path\": \"flickr8k/Flickr8k_Dataset/2851304910_b5721199bc.jpg\", \n",
      "    \"id\": \"2851304910_b5721199bc\", \n",
      "    \"split\": \"train\"\n",
      "}\n",
      "8000\n",
      "{\n",
      "    \"captions\": [\n",
      "        \"A photographer looks over the hills .\", \n",
      "        \"A woman in a red jacket is videotaping a natural landscape .\", \n",
      "        \"A woman with a camera looks out over rolling hills .\", \n",
      "        \"A woman with a camera on a tripod is looking at the view .\", \n",
      "        \"Lady in red shirt has her camera set up in the field to record something .\"\n",
      "    ], \n",
      "    \"file_path\": \"flickr8k/Flickr8k_Dataset/2851304910_b5721199bc.jpg\", \n",
      "    \"id\": \"2851304910_b5721199bc\", \n",
      "    \"split\": \"train\"\n",
      "}\n"
     ]
    }
   ],
   "source": [
    "flickr8k = json.load(open('caption_datasets/dataset_flickr8k.json', 'r'))\n",
    "print flickr8k.keys()\n",
    "data = {}\n",
    "len_imgs = len(flickr8k[u'images'])\n",
    "print len_imgs\n",
    "data =[]\n",
    "for i in range(len_imgs):\n",
    "    im_annos = {}\n",
    "    im_annos['captions'] = []\n",
    "    len_annos = len(flickr8k['images'][i]['sentences'])\n",
    "    for j in xrange(len_annos):\n",
    "        im_annos[u'captions'].append(flickr8k['images'][i]['sentences'][j]['raw'])\n",
    "    im_annos['file_path'] = 'flickr8k/Flickr8k_Dataset/'+flickr8k['images'][i]['filename']\n",
    "    im_annos['split'] = flickr8k['images'][i]['split']\n",
    "    im_annos['id'] = flickr8k['images'][i]['filename'].split('.',1)[0]\n",
    "    data.append(im_annos)\n",
    "print json.dumps(data[10], indent=4, sort_keys=True)\n",
    "json.dump(data, open('flickr8k_raw.json', 'w'))\n",
    "from random import shuffle, seed\n",
    "imgs = json.load(open('flickr8k_raw.json', 'r'))\n",
    "print len(imgs)\n",
    "print json.dumps(imgs[10], indent=4, sort_keys=True)"
   ]
  },
  {
   "cell_type": "code",
   "execution_count": null,
   "metadata": {
    "collapsed": true
   },
   "outputs": [],
   "source": []
  }
 ],
 "metadata": {
  "kernelspec": {
   "display_name": "Python 2",
   "language": "python",
   "name": "python2"
  },
  "language_info": {
   "codemirror_mode": {
    "name": "ipython",
    "version": 2
   },
   "file_extension": ".py",
   "mimetype": "text/x-python",
   "name": "python",
   "nbconvert_exporter": "python",
   "pygments_lexer": "ipython2",
   "version": "2.7.11"
  }
 },
 "nbformat": 4,
 "nbformat_minor": 0
}
